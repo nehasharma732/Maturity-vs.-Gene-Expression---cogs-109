{
  "cells": [
    {
      "cell_type": "markdown",
      "source": [
        "## Data Analysis"
      ],
      "metadata": {
        "id": "fYqyQ8keR5TH"
      },
      "id": "fYqyQ8keR5TH"
    },
    {
      "cell_type": "markdown",
      "source": [
        "###**Part 0: Set- up & Preliminary Checks**"
      ],
      "metadata": {
        "id": "H9GvJsfSUA4a"
      },
      "id": "H9GvJsfSUA4a"
    },
    {
      "cell_type": "code",
      "execution_count": 1,
      "id": "4fa95348",
      "metadata": {
        "id": "4fa95348"
      },
      "outputs": [],
      "source": [
        "import pandas as pd\n",
        "import numpy as np\n",
        "import matplotlib.pyplot as plt\n",
        "import seaborn as sns\n",
        "import math\n",
        "\n",
        "# for logistic regression and for kfold\n",
        "from statsmodels.formula.api import logit\n",
        "from sklearn.model_selection import KFold\n",
        "\n",
        "# for creating confusion matrix\n",
        "from sklearn.metrics import confusion_matrix"
      ]
    },
    {
      "cell_type": "code",
      "execution_count": 2,
      "id": "2ac13e14",
      "metadata": {
        "id": "2ac13e14",
        "colab": {
          "base_uri": "https://localhost:8080/",
          "height": 206
        },
        "outputId": "592e5183-7888-4e61-988f-266bdfee69c1"
      },
      "outputs": [
        {
          "output_type": "execute_result",
          "data": {
            "text/plain": [
              "   Lars2  Malat1  mature\n",
              "0   9.95    6.69       1\n",
              "1  10.54    8.53       1\n",
              "2   6.58    8.74       1\n",
              "3   7.49    9.09       1\n",
              "4   7.42    9.87       1"
            ],
            "text/html": [
              "\n",
              "\n",
              "  <div id=\"df-16bef090-da10-4de1-95dc-6fe4e75bd443\">\n",
              "    <div class=\"colab-df-container\">\n",
              "      <div>\n",
              "<style scoped>\n",
              "    .dataframe tbody tr th:only-of-type {\n",
              "        vertical-align: middle;\n",
              "    }\n",
              "\n",
              "    .dataframe tbody tr th {\n",
              "        vertical-align: top;\n",
              "    }\n",
              "\n",
              "    .dataframe thead th {\n",
              "        text-align: right;\n",
              "    }\n",
              "</style>\n",
              "<table border=\"1\" class=\"dataframe\">\n",
              "  <thead>\n",
              "    <tr style=\"text-align: right;\">\n",
              "      <th></th>\n",
              "      <th>Lars2</th>\n",
              "      <th>Malat1</th>\n",
              "      <th>mature</th>\n",
              "    </tr>\n",
              "  </thead>\n",
              "  <tbody>\n",
              "    <tr>\n",
              "      <th>0</th>\n",
              "      <td>9.95</td>\n",
              "      <td>6.69</td>\n",
              "      <td>1</td>\n",
              "    </tr>\n",
              "    <tr>\n",
              "      <th>1</th>\n",
              "      <td>10.54</td>\n",
              "      <td>8.53</td>\n",
              "      <td>1</td>\n",
              "    </tr>\n",
              "    <tr>\n",
              "      <th>2</th>\n",
              "      <td>6.58</td>\n",
              "      <td>8.74</td>\n",
              "      <td>1</td>\n",
              "    </tr>\n",
              "    <tr>\n",
              "      <th>3</th>\n",
              "      <td>7.49</td>\n",
              "      <td>9.09</td>\n",
              "      <td>1</td>\n",
              "    </tr>\n",
              "    <tr>\n",
              "      <th>4</th>\n",
              "      <td>7.42</td>\n",
              "      <td>9.87</td>\n",
              "      <td>1</td>\n",
              "    </tr>\n",
              "  </tbody>\n",
              "</table>\n",
              "</div>\n",
              "      <button class=\"colab-df-convert\" onclick=\"convertToInteractive('df-16bef090-da10-4de1-95dc-6fe4e75bd443')\"\n",
              "              title=\"Convert this dataframe to an interactive table.\"\n",
              "              style=\"display:none;\">\n",
              "\n",
              "  <svg xmlns=\"http://www.w3.org/2000/svg\" height=\"24px\"viewBox=\"0 0 24 24\"\n",
              "       width=\"24px\">\n",
              "    <path d=\"M0 0h24v24H0V0z\" fill=\"none\"/>\n",
              "    <path d=\"M18.56 5.44l.94 2.06.94-2.06 2.06-.94-2.06-.94-.94-2.06-.94 2.06-2.06.94zm-11 1L8.5 8.5l.94-2.06 2.06-.94-2.06-.94L8.5 2.5l-.94 2.06-2.06.94zm10 10l.94 2.06.94-2.06 2.06-.94-2.06-.94-.94-2.06-.94 2.06-2.06.94z\"/><path d=\"M17.41 7.96l-1.37-1.37c-.4-.4-.92-.59-1.43-.59-.52 0-1.04.2-1.43.59L10.3 9.45l-7.72 7.72c-.78.78-.78 2.05 0 2.83L4 21.41c.39.39.9.59 1.41.59.51 0 1.02-.2 1.41-.59l7.78-7.78 2.81-2.81c.8-.78.8-2.07 0-2.86zM5.41 20L4 18.59l7.72-7.72 1.47 1.35L5.41 20z\"/>\n",
              "  </svg>\n",
              "      </button>\n",
              "\n",
              "\n",
              "\n",
              "    <div id=\"df-916ed699-4f52-424c-a029-45d20ccb8eca\">\n",
              "      <button class=\"colab-df-quickchart\" onclick=\"quickchart('df-916ed699-4f52-424c-a029-45d20ccb8eca')\"\n",
              "              title=\"Suggest charts.\"\n",
              "              style=\"display:none;\">\n",
              "\n",
              "<svg xmlns=\"http://www.w3.org/2000/svg\" height=\"24px\"viewBox=\"0 0 24 24\"\n",
              "     width=\"24px\">\n",
              "    <g>\n",
              "        <path d=\"M19 3H5c-1.1 0-2 .9-2 2v14c0 1.1.9 2 2 2h14c1.1 0 2-.9 2-2V5c0-1.1-.9-2-2-2zM9 17H7v-7h2v7zm4 0h-2V7h2v10zm4 0h-2v-4h2v4z\"/>\n",
              "    </g>\n",
              "</svg>\n",
              "      </button>\n",
              "    </div>\n",
              "\n",
              "<style>\n",
              "  .colab-df-quickchart {\n",
              "    background-color: #E8F0FE;\n",
              "    border: none;\n",
              "    border-radius: 50%;\n",
              "    cursor: pointer;\n",
              "    display: none;\n",
              "    fill: #1967D2;\n",
              "    height: 32px;\n",
              "    padding: 0 0 0 0;\n",
              "    width: 32px;\n",
              "  }\n",
              "\n",
              "  .colab-df-quickchart:hover {\n",
              "    background-color: #E2EBFA;\n",
              "    box-shadow: 0px 1px 2px rgba(60, 64, 67, 0.3), 0px 1px 3px 1px rgba(60, 64, 67, 0.15);\n",
              "    fill: #174EA6;\n",
              "  }\n",
              "\n",
              "  [theme=dark] .colab-df-quickchart {\n",
              "    background-color: #3B4455;\n",
              "    fill: #D2E3FC;\n",
              "  }\n",
              "\n",
              "  [theme=dark] .colab-df-quickchart:hover {\n",
              "    background-color: #434B5C;\n",
              "    box-shadow: 0px 1px 3px 1px rgba(0, 0, 0, 0.15);\n",
              "    filter: drop-shadow(0px 1px 2px rgba(0, 0, 0, 0.3));\n",
              "    fill: #FFFFFF;\n",
              "  }\n",
              "</style>\n",
              "\n",
              "    <script>\n",
              "      async function quickchart(key) {\n",
              "        const containerElement = document.querySelector('#' + key);\n",
              "        const charts = await google.colab.kernel.invokeFunction(\n",
              "            'suggestCharts', [key], {});\n",
              "      }\n",
              "    </script>\n",
              "\n",
              "      <script>\n",
              "\n",
              "function displayQuickchartButton(domScope) {\n",
              "  let quickchartButtonEl =\n",
              "    domScope.querySelector('#df-916ed699-4f52-424c-a029-45d20ccb8eca button.colab-df-quickchart');\n",
              "  quickchartButtonEl.style.display =\n",
              "    google.colab.kernel.accessAllowed ? 'block' : 'none';\n",
              "}\n",
              "\n",
              "        displayQuickchartButton(document);\n",
              "      </script>\n",
              "      <style>\n",
              "    .colab-df-container {\n",
              "      display:flex;\n",
              "      flex-wrap:wrap;\n",
              "      gap: 12px;\n",
              "    }\n",
              "\n",
              "    .colab-df-convert {\n",
              "      background-color: #E8F0FE;\n",
              "      border: none;\n",
              "      border-radius: 50%;\n",
              "      cursor: pointer;\n",
              "      display: none;\n",
              "      fill: #1967D2;\n",
              "      height: 32px;\n",
              "      padding: 0 0 0 0;\n",
              "      width: 32px;\n",
              "    }\n",
              "\n",
              "    .colab-df-convert:hover {\n",
              "      background-color: #E2EBFA;\n",
              "      box-shadow: 0px 1px 2px rgba(60, 64, 67, 0.3), 0px 1px 3px 1px rgba(60, 64, 67, 0.15);\n",
              "      fill: #174EA6;\n",
              "    }\n",
              "\n",
              "    [theme=dark] .colab-df-convert {\n",
              "      background-color: #3B4455;\n",
              "      fill: #D2E3FC;\n",
              "    }\n",
              "\n",
              "    [theme=dark] .colab-df-convert:hover {\n",
              "      background-color: #434B5C;\n",
              "      box-shadow: 0px 1px 3px 1px rgba(0, 0, 0, 0.15);\n",
              "      filter: drop-shadow(0px 1px 2px rgba(0, 0, 0, 0.3));\n",
              "      fill: #FFFFFF;\n",
              "    }\n",
              "  </style>\n",
              "\n",
              "      <script>\n",
              "        const buttonEl =\n",
              "          document.querySelector('#df-16bef090-da10-4de1-95dc-6fe4e75bd443 button.colab-df-convert');\n",
              "        buttonEl.style.display =\n",
              "          google.colab.kernel.accessAllowed ? 'block' : 'none';\n",
              "\n",
              "        async function convertToInteractive(key) {\n",
              "          const element = document.querySelector('#df-16bef090-da10-4de1-95dc-6fe4e75bd443');\n",
              "          const dataTable =\n",
              "            await google.colab.kernel.invokeFunction('convertToInteractive',\n",
              "                                                     [key], {});\n",
              "          if (!dataTable) return;\n",
              "\n",
              "          const docLinkHtml = 'Like what you see? Visit the ' +\n",
              "            '<a target=\"_blank\" href=https://colab.research.google.com/notebooks/data_table.ipynb>data table notebook</a>'\n",
              "            + ' to learn more about interactive tables.';\n",
              "          element.innerHTML = '';\n",
              "          dataTable['output_type'] = 'display_data';\n",
              "          await google.colab.output.renderOutput(dataTable, element);\n",
              "          const docLink = document.createElement('div');\n",
              "          docLink.innerHTML = docLinkHtml;\n",
              "          element.appendChild(docLink);\n",
              "        }\n",
              "      </script>\n",
              "    </div>\n",
              "  </div>\n"
            ]
          },
          "metadata": {},
          "execution_count": 2
        }
      ],
      "source": [
        "#import dataset\n",
        "df = pd.read_csv('https://drive.google.com/uc?export=download&id=1cN2Ah5fvJoYyYHg8zVhN_JhCVOHaiRrb')\n",
        "df.head()"
      ]
    },
    {
      "cell_type": "markdown",
      "source": [
        "###**Part A: Confusion Matrix**"
      ],
      "metadata": {
        "id": "cmn9eSPtUX-P"
      },
      "id": "cmn9eSPtUX-P"
    },
    {
      "cell_type": "code",
      "execution_count": 3,
      "id": "2068eab2",
      "metadata": {
        "colab": {
          "base_uri": "https://localhost:8080/"
        },
        "id": "2068eab2",
        "outputId": "69c27de0-ec54-4897-96e4-062a2f6bcfd2"
      },
      "outputs": [
        {
          "output_type": "stream",
          "name": "stdout",
          "text": [
            "Optimization terminated successfully.\n",
            "         Current function value: 0.196827\n",
            "         Iterations 9\n",
            "                           Logit Regression Results                           \n",
            "==============================================================================\n",
            "Dep. Variable:                 mature   No. Observations:                  817\n",
            "Model:                          Logit   Df Residuals:                      814\n",
            "Method:                           MLE   Df Model:                            2\n",
            "Date:                Mon, 14 Aug 2023   Pseudo R-squ.:                  0.6088\n",
            "Time:                        03:26:02   Log-Likelihood:                -160.81\n",
            "converged:                       True   LL-Null:                       -411.04\n",
            "Covariance Type:            nonrobust   LLR p-value:                2.122e-109\n",
            "==============================================================================\n",
            "                 coef    std err          z      P>|z|      [0.025      0.975]\n",
            "------------------------------------------------------------------------------\n",
            "Intercept    -25.5697      2.177    -11.743      0.000     -29.838     -21.302\n",
            "Lars2          2.3119      0.223     10.354      0.000       1.874       2.750\n",
            "Malat1         1.0836      0.156      6.941      0.000       0.778       1.390\n",
            "==============================================================================\n"
          ]
        }
      ],
      "source": [
        "# Multinomial logistic regression model\n",
        "bothmdl = logit(formula = \"mature ~ Lars2 + Malat1 + 1\", data = df).fit()\n",
        "print(bothmdl.summary())"
      ]
    },
    {
      "cell_type": "code",
      "source": [
        "ypred2 = np.where(bothmdl.predict(df[['Lars2', 'Malat1']]) > 0.5,1,0)\n",
        "c_matrix = pd.crosstab(df.mature, ypred2, rownames=['Actual'], colnames=['Predicted'])\n",
        "c_matrix"
      ],
      "metadata": {
        "colab": {
          "base_uri": "https://localhost:8080/",
          "height": 143
        },
        "id": "id5xT0QJCYZf",
        "outputId": "5af78236-239c-4bf9-ee84-640222781a68"
      },
      "id": "id5xT0QJCYZf",
      "execution_count": 4,
      "outputs": [
        {
          "output_type": "execute_result",
          "data": {
            "text/plain": [
              "Predicted    0    1\n",
              "Actual             \n",
              "0          618   34\n",
              "1           45  120"
            ],
            "text/html": [
              "\n",
              "\n",
              "  <div id=\"df-87deecee-11b8-4af5-a390-d451d73dd983\">\n",
              "    <div class=\"colab-df-container\">\n",
              "      <div>\n",
              "<style scoped>\n",
              "    .dataframe tbody tr th:only-of-type {\n",
              "        vertical-align: middle;\n",
              "    }\n",
              "\n",
              "    .dataframe tbody tr th {\n",
              "        vertical-align: top;\n",
              "    }\n",
              "\n",
              "    .dataframe thead th {\n",
              "        text-align: right;\n",
              "    }\n",
              "</style>\n",
              "<table border=\"1\" class=\"dataframe\">\n",
              "  <thead>\n",
              "    <tr style=\"text-align: right;\">\n",
              "      <th>Predicted</th>\n",
              "      <th>0</th>\n",
              "      <th>1</th>\n",
              "    </tr>\n",
              "    <tr>\n",
              "      <th>Actual</th>\n",
              "      <th></th>\n",
              "      <th></th>\n",
              "    </tr>\n",
              "  </thead>\n",
              "  <tbody>\n",
              "    <tr>\n",
              "      <th>0</th>\n",
              "      <td>618</td>\n",
              "      <td>34</td>\n",
              "    </tr>\n",
              "    <tr>\n",
              "      <th>1</th>\n",
              "      <td>45</td>\n",
              "      <td>120</td>\n",
              "    </tr>\n",
              "  </tbody>\n",
              "</table>\n",
              "</div>\n",
              "      <button class=\"colab-df-convert\" onclick=\"convertToInteractive('df-87deecee-11b8-4af5-a390-d451d73dd983')\"\n",
              "              title=\"Convert this dataframe to an interactive table.\"\n",
              "              style=\"display:none;\">\n",
              "\n",
              "  <svg xmlns=\"http://www.w3.org/2000/svg\" height=\"24px\"viewBox=\"0 0 24 24\"\n",
              "       width=\"24px\">\n",
              "    <path d=\"M0 0h24v24H0V0z\" fill=\"none\"/>\n",
              "    <path d=\"M18.56 5.44l.94 2.06.94-2.06 2.06-.94-2.06-.94-.94-2.06-.94 2.06-2.06.94zm-11 1L8.5 8.5l.94-2.06 2.06-.94-2.06-.94L8.5 2.5l-.94 2.06-2.06.94zm10 10l.94 2.06.94-2.06 2.06-.94-2.06-.94-.94-2.06-.94 2.06-2.06.94z\"/><path d=\"M17.41 7.96l-1.37-1.37c-.4-.4-.92-.59-1.43-.59-.52 0-1.04.2-1.43.59L10.3 9.45l-7.72 7.72c-.78.78-.78 2.05 0 2.83L4 21.41c.39.39.9.59 1.41.59.51 0 1.02-.2 1.41-.59l7.78-7.78 2.81-2.81c.8-.78.8-2.07 0-2.86zM5.41 20L4 18.59l7.72-7.72 1.47 1.35L5.41 20z\"/>\n",
              "  </svg>\n",
              "      </button>\n",
              "\n",
              "\n",
              "\n",
              "    <div id=\"df-79d78e9f-918e-44a1-bdb5-7116f0bb41f0\">\n",
              "      <button class=\"colab-df-quickchart\" onclick=\"quickchart('df-79d78e9f-918e-44a1-bdb5-7116f0bb41f0')\"\n",
              "              title=\"Suggest charts.\"\n",
              "              style=\"display:none;\">\n",
              "\n",
              "<svg xmlns=\"http://www.w3.org/2000/svg\" height=\"24px\"viewBox=\"0 0 24 24\"\n",
              "     width=\"24px\">\n",
              "    <g>\n",
              "        <path d=\"M19 3H5c-1.1 0-2 .9-2 2v14c0 1.1.9 2 2 2h14c1.1 0 2-.9 2-2V5c0-1.1-.9-2-2-2zM9 17H7v-7h2v7zm4 0h-2V7h2v10zm4 0h-2v-4h2v4z\"/>\n",
              "    </g>\n",
              "</svg>\n",
              "      </button>\n",
              "    </div>\n",
              "\n",
              "<style>\n",
              "  .colab-df-quickchart {\n",
              "    background-color: #E8F0FE;\n",
              "    border: none;\n",
              "    border-radius: 50%;\n",
              "    cursor: pointer;\n",
              "    display: none;\n",
              "    fill: #1967D2;\n",
              "    height: 32px;\n",
              "    padding: 0 0 0 0;\n",
              "    width: 32px;\n",
              "  }\n",
              "\n",
              "  .colab-df-quickchart:hover {\n",
              "    background-color: #E2EBFA;\n",
              "    box-shadow: 0px 1px 2px rgba(60, 64, 67, 0.3), 0px 1px 3px 1px rgba(60, 64, 67, 0.15);\n",
              "    fill: #174EA6;\n",
              "  }\n",
              "\n",
              "  [theme=dark] .colab-df-quickchart {\n",
              "    background-color: #3B4455;\n",
              "    fill: #D2E3FC;\n",
              "  }\n",
              "\n",
              "  [theme=dark] .colab-df-quickchart:hover {\n",
              "    background-color: #434B5C;\n",
              "    box-shadow: 0px 1px 3px 1px rgba(0, 0, 0, 0.15);\n",
              "    filter: drop-shadow(0px 1px 2px rgba(0, 0, 0, 0.3));\n",
              "    fill: #FFFFFF;\n",
              "  }\n",
              "</style>\n",
              "\n",
              "    <script>\n",
              "      async function quickchart(key) {\n",
              "        const containerElement = document.querySelector('#' + key);\n",
              "        const charts = await google.colab.kernel.invokeFunction(\n",
              "            'suggestCharts', [key], {});\n",
              "      }\n",
              "    </script>\n",
              "\n",
              "      <script>\n",
              "\n",
              "function displayQuickchartButton(domScope) {\n",
              "  let quickchartButtonEl =\n",
              "    domScope.querySelector('#df-79d78e9f-918e-44a1-bdb5-7116f0bb41f0 button.colab-df-quickchart');\n",
              "  quickchartButtonEl.style.display =\n",
              "    google.colab.kernel.accessAllowed ? 'block' : 'none';\n",
              "}\n",
              "\n",
              "        displayQuickchartButton(document);\n",
              "      </script>\n",
              "      <style>\n",
              "    .colab-df-container {\n",
              "      display:flex;\n",
              "      flex-wrap:wrap;\n",
              "      gap: 12px;\n",
              "    }\n",
              "\n",
              "    .colab-df-convert {\n",
              "      background-color: #E8F0FE;\n",
              "      border: none;\n",
              "      border-radius: 50%;\n",
              "      cursor: pointer;\n",
              "      display: none;\n",
              "      fill: #1967D2;\n",
              "      height: 32px;\n",
              "      padding: 0 0 0 0;\n",
              "      width: 32px;\n",
              "    }\n",
              "\n",
              "    .colab-df-convert:hover {\n",
              "      background-color: #E2EBFA;\n",
              "      box-shadow: 0px 1px 2px rgba(60, 64, 67, 0.3), 0px 1px 3px 1px rgba(60, 64, 67, 0.15);\n",
              "      fill: #174EA6;\n",
              "    }\n",
              "\n",
              "    [theme=dark] .colab-df-convert {\n",
              "      background-color: #3B4455;\n",
              "      fill: #D2E3FC;\n",
              "    }\n",
              "\n",
              "    [theme=dark] .colab-df-convert:hover {\n",
              "      background-color: #434B5C;\n",
              "      box-shadow: 0px 1px 3px 1px rgba(0, 0, 0, 0.15);\n",
              "      filter: drop-shadow(0px 1px 2px rgba(0, 0, 0, 0.3));\n",
              "      fill: #FFFFFF;\n",
              "    }\n",
              "  </style>\n",
              "\n",
              "      <script>\n",
              "        const buttonEl =\n",
              "          document.querySelector('#df-87deecee-11b8-4af5-a390-d451d73dd983 button.colab-df-convert');\n",
              "        buttonEl.style.display =\n",
              "          google.colab.kernel.accessAllowed ? 'block' : 'none';\n",
              "\n",
              "        async function convertToInteractive(key) {\n",
              "          const element = document.querySelector('#df-87deecee-11b8-4af5-a390-d451d73dd983');\n",
              "          const dataTable =\n",
              "            await google.colab.kernel.invokeFunction('convertToInteractive',\n",
              "                                                     [key], {});\n",
              "          if (!dataTable) return;\n",
              "\n",
              "          const docLinkHtml = 'Like what you see? Visit the ' +\n",
              "            '<a target=\"_blank\" href=https://colab.research.google.com/notebooks/data_table.ipynb>data table notebook</a>'\n",
              "            + ' to learn more about interactive tables.';\n",
              "          element.innerHTML = '';\n",
              "          dataTable['output_type'] = 'display_data';\n",
              "          await google.colab.output.renderOutput(dataTable, element);\n",
              "          const docLink = document.createElement('div');\n",
              "          docLink.innerHTML = docLinkHtml;\n",
              "          element.appendChild(docLink);\n",
              "        }\n",
              "      </script>\n",
              "    </div>\n",
              "  </div>\n"
            ]
          },
          "metadata": {},
          "execution_count": 4
        }
      ]
    },
    {
      "cell_type": "code",
      "execution_count": 5,
      "id": "f480c4ed",
      "metadata": {
        "colab": {
          "base_uri": "https://localhost:8080/"
        },
        "id": "f480c4ed",
        "outputId": "861d7868-5a2a-4764-cd4e-d8cc9f7ad13d"
      },
      "outputs": [
        {
          "output_type": "stream",
          "name": "stdout",
          "text": [
            "Fraction of correctly classified mature cells: 0.7272727272727273\n",
            "Fraction of correctly classified immature cells: 0.9478527607361963\n",
            "Fraction of correctly classified all cells: 0.9033047735618115\n"
          ]
        }
      ],
      "source": [
        "# Calculate the fractions\n",
        "fraction_correctly_classified_mature = c_matrix.loc[1, 1] / c_matrix.loc[1].sum()\n",
        "fraction_correctly_classified_immature = c_matrix.loc[0, 0] / c_matrix.loc[0].sum()\n",
        "fraction_correctly_classified_all = (c_matrix.loc[1, 1] + c_matrix.loc[0, 0]) / c_matrix.values.sum()\n",
        "\n",
        "print(\"Fraction of correctly classified mature cells:\", fraction_correctly_classified_mature)\n",
        "print(\"Fraction of correctly classified immature cells:\", fraction_correctly_classified_immature)\n",
        "print(\"Fraction of correctly classified all cells:\", fraction_correctly_classified_all)"
      ]
    },
    {
      "cell_type": "markdown",
      "source": [
        "###**Part B: Assessing Accuracy**"
      ],
      "metadata": {
        "id": "i9mVQ0g2WvPj"
      },
      "id": "i9mVQ0g2WvPj"
    },
    {
      "cell_type": "markdown",
      "source": [
        "**Given the current distribution of the two classes within the dataset (80% immature, 20% mature), the accuracy of a naive model that only predicts (immature=0) would be 80% across all data points. The accuracy of a naive model that  only predicts (mature=1) would be 20% across all data points**"
      ],
      "metadata": {
        "id": "NNrttnyxfj0l"
      },
      "id": "NNrttnyxfj0l"
    },
    {
      "cell_type": "markdown",
      "source": [
        "###**Part C: False Positive Plot**"
      ],
      "metadata": {
        "id": "bjSYD0boW56e"
      },
      "id": "bjSYD0boW56e"
    },
    {
      "cell_type": "markdown",
      "source": [
        "Our classifier used a Bayesian criterion, P(mature | Malat1, Lars2) > Threshold, where the threshold was set at Threshold = 0.5. We will make a plot showing the false positive rate as a function of Threshold in order to analyze how different threshold values achieve a particular false positive rate.\n"
      ],
      "metadata": {
        "id": "Kcv5c0O6DwMv"
      },
      "id": "Kcv5c0O6DwMv"
    },
    {
      "cell_type": "code",
      "source": [
        "# Create an array of threshold values\n",
        "thresholds = np.linspace(0, 1, num=101)\n",
        "\n",
        "# Initialize lists to store metrics\n",
        "fprs = []\n",
        "tprs = []\n",
        "precisions = []\n",
        "recalls = []\n",
        "f1s = []\n",
        "\n",
        "# Loop through each threshold value\n",
        "for threshold in thresholds:\n",
        "    # Predict labels using the current threshold value\n",
        "    predicted_labels = np.where(bothmdl.predict(df[['Lars2', 'Malat1']]) > threshold, 1, 0)\n",
        "\n",
        "    # Calculate confusion matrix values\n",
        "    tn, fp, fn, tp = confusion_matrix(df.mature, predicted_labels).ravel()\n",
        "\n",
        "    # Calculate false positive rate (fpr)\n",
        "    fpr = fp / (fp + tn)\n",
        "    fprs.append(fpr)\n",
        "\n",
        "    # Calculate true positive rate (tpr)\n",
        "    tpr = tp / (tp + fn)\n",
        "    tprs.append(tpr)\n",
        "\n",
        "    # Calculate precision, recall, and F1 score\n",
        "    precision = tp / (tp + fp)\n",
        "    precisions.append(precision)\n",
        "    recall = tp / (tp + fn)\n",
        "    recalls.append(recall)\n",
        "    f1 = (2 * precision * recall) / (precision + recall)\n",
        "    f1s.append(f1)"
      ],
      "metadata": {
        "id": "_MhXKDg6fyIo",
        "colab": {
          "base_uri": "https://localhost:8080/"
        },
        "outputId": "c7b56031-7532-40c9-d0fb-abd07c3041dc"
      },
      "id": "_MhXKDg6fyIo",
      "execution_count": 8,
      "outputs": [
        {
          "output_type": "stream",
          "name": "stderr",
          "text": [
            "<ipython-input-8-2a85dd86d4dd>:28: RuntimeWarning: invalid value encountered in long_scalars\n",
            "  precision = tp / (tp + fp)\n"
          ]
        }
      ]
    },
    {
      "cell_type": "code",
      "source": [
        "# Plot\n",
        "fig, ax = plt.subplots(figsize=(10, 6))\n",
        "ax.plot(thresholds, fprs, color='blue', linewidth=2, label='False Positive Rate')\n",
        "\n",
        "ax.set_xlabel('Threshold', fontsize=14)\n",
        "ax.set_ylabel('False Positive Rate', fontsize=14)\n",
        "ax.set_title('Threshold vs. False Positive Rate', fontsize=16)\n",
        "ax.set_xlim([0, 1])\n",
        "ax.set_ylim([0, 1])\n",
        "plt.show()"
      ],
      "metadata": {
        "colab": {
          "base_uri": "https://localhost:8080/",
          "height": 571
        },
        "id": "I0WTG3q3xBwA",
        "outputId": "d86dbdbc-0166-41c9-b632-cc1c8ca74db3"
      },
      "id": "I0WTG3q3xBwA",
      "execution_count": 19,
      "outputs": [
        {
          "output_type": "display_data",
          "data": {
            "text/plain": [
              "<Figure size 1000x600 with 1 Axes>"
            ],
            "image/png": "[encoded data removed]"
          },
          "metadata": {}
        }
      ]
    },
    {
      "cell_type": "markdown",
      "source": [
        "###**Part D: Classifier as a Function of Threshold**"
      ],
      "metadata": {
        "id": "yKyxvj30W-qT"
      },
      "id": "yKyxvj30W-qT"
    },
    {
      "cell_type": "code",
      "source": [
        "# Plotting precision, recall, and F1 of the classifier as a function of Threshold\n",
        "\n",
        "fig, ax = plt.subplots(figsize=(10, 6))\n",
        "\n",
        "# precision, recall, and F1\n",
        "ax.plot(thresholds, precisions, color='blue', linewidth=2, label='Precision')\n",
        "ax.plot(thresholds, recalls, color='green', linewidth=2, label='Recall')\n",
        "ax.plot(thresholds, f1s, color='orange', linewidth=2, label='F1 Score')\n",
        "\n",
        "# Set labels and title\n",
        "ax.set_xlabel('Threshold', fontsize=14)\n",
        "ax.set_ylabel('Score', fontsize=14)\n",
        "ax.set_title('Precision, Recall, and F1 Score vs. Threshold', fontsize=16)\n",
        "\n",
        "# Add legend in the best location\n",
        "ax.legend(loc='best', fontsize=12)\n",
        "\n",
        "# Set axis limits\n",
        "ax.set_xlim([0, 1])\n",
        "ax.set_ylim([0, 1])\n",
        "\n",
        "plt.show()"
      ],
      "metadata": {
        "id": "IRU2YmG3gbeH",
        "colab": {
          "base_uri": "https://localhost:8080/",
          "height": 571
        },
        "outputId": "c725e605-6634-4050-f168-b71ec48dce98"
      },
      "id": "IRU2YmG3gbeH",
      "execution_count": 21,
      "outputs": [
        {
          "output_type": "display_data",
          "data": {
            "text/plain": [
              "<Figure size 1000x600 with 1 Axes>"
            ],
            "image/png": "[encoded data removed]"
          },
          "metadata": {}
        }
      ]
    },
    {
      "cell_type": "markdown",
      "source": [
        "###**Part E: ROC Plot**"
      ],
      "metadata": {
        "id": "FdFOE8hMXKf1"
      },
      "id": "FdFOE8hMXKf1"
    },
    {
      "cell_type": "code",
      "source": [
        "# Make a ROC plot, i.e. show the true positive rate vs. the false positive rate for all Threshold values\n",
        "fig, ax = plt.subplots()\n",
        "ax.plot(fprs, tprs)\n",
        "\n",
        "# mark Bayesian classifier point\n",
        "bayes_fpr = fprs[50]\n",
        "bayes_tpr = tprs[50]\n",
        "plt.scatter(bayes_fpr, bayes_tpr, color='red', marker='o', label='Bayesian classifier (0.5)')\n",
        "\n",
        "# mark modified classifier point\n",
        "mod_fpr = fprs[20]\n",
        "mod_tpr = tprs[20]\n",
        "plt.scatter(mod_fpr, mod_tpr, color='blue', marker='x', label='Modified classifier (0.2)')\n",
        "\n",
        "plt.xlabel('False positive rate')\n",
        "plt.ylabel('True positive rate')\n",
        "plt.title('ROC curve')\n",
        "plt.legend()\n",
        "plt.show()\n"
      ],
      "metadata": {
        "id": "aq6WZ1uMgjGp",
        "colab": {
          "base_uri": "https://localhost:8080/",
          "height": 472
        },
        "outputId": "4e4d9773-ecfc-4f78-d47f-6a6dd58fb1dd"
      },
      "id": "aq6WZ1uMgjGp",
      "execution_count": 22,
      "outputs": [
        {
          "output_type": "display_data",
          "data": {
            "text/plain": [
              "<Figure size 640x480 with 1 Axes>"
            ],
            "image/png": "[encoded data removed]"
          },
          "metadata": {}
        }
      ]
    },
    {
      "cell_type": "markdown",
      "source": [
        "###**Part F: Discussion**"
      ],
      "metadata": {
        "id": "sOPcFUuKgq3M"
      },
      "id": "sOPcFUuKgq3M"
    },
    {
      "cell_type": "markdown",
      "source": [
        "**It's clear from the plot above that meeting the criteria of a false positive rate of 10% or less and a true positive rate of 95% or higher is not possible. The plot doesn't show any point that fulfills these requirements.**"
      ],
      "metadata": {
        "id": "plpBI8iFgmRM"
      },
      "id": "plpBI8iFgmRM"
    },
    {
      "cell_type": "markdown",
      "source": [
        "# Cross-validation and Bootstrap Resampling\n",
        "\n",
        "Now, we will use cross-validation and bootstrap resampling to estimate the reliability of our classifier. We will continue using the same classifier, with threshold = 0.5."
      ],
      "metadata": {
        "id": "pGQ_mzmuqAq4"
      },
      "id": "pGQ_mzmuqAq4"
    },
    {
      "cell_type": "markdown",
      "source": [
        "###**Part A**"
      ],
      "metadata": {
        "id": "07Idvazpg3Y3"
      },
      "id": "07Idvazpg3Y3"
    },
    {
      "cell_type": "code",
      "source": [
        "k = 10\n",
        "\n",
        "# Initialize two arrays to store the training and testing error.\n",
        "trainErr = []\n",
        "testErr = []\n",
        "\n",
        "kf = KFold(n_splits = k, random_state = 109, shuffle = True)\n",
        "\n",
        "for trlInd, testInd in kf.split(df):\n",
        "    # For each it. select len/k index & save the rest to train.\n",
        "    testdf = df.iloc[testInd,]\n",
        "    traindf = df.iloc[trlInd,]\n",
        "\n",
        "    # Fit model.\n",
        "    mdl = logit(formula = \"mature ~ Malat1 + Lars2 + 1\", data = traindf).fit(disp = False)\n",
        "\n",
        "    trainPred = mdl.predict(traindf)\n",
        "    testPred = mdl.predict(testdf)\n",
        "\n",
        "    # Total error rate for both the training and test sets.\n",
        "    trainErr.append(sum((trainPred > 0.5) != traindf['mature']) / len(traindf))\n",
        "    testErr.append(sum((testPred > 0.5) != testdf['mature']) / len(testdf))\n",
        "\n",
        "print('Total error rate for training set:', trainErr)\n",
        "print('Total error rate for testing set:', testErr)"
      ],
      "metadata": {
        "colab": {
          "base_uri": "https://localhost:8080/"
        },
        "id": "YYhE8Lqp3g3B",
        "outputId": "9b6df642-1979-4d19-995a-e5416a0f15c0"
      },
      "id": "YYhE8Lqp3g3B",
      "execution_count": null,
      "outputs": [
        {
          "output_type": "stream",
          "name": "stdout",
          "text": [
            "Total error rate for training set: [0.09659863945578231, 0.09115646258503401, 0.09659863945578231, 0.09659863945578231, 0.08979591836734693, 0.09659863945578231, 0.09931972789115646, 0.09510869565217392, 0.09782608695652174, 0.09375]\n",
            "Total error rate for testing set: [0.0975609756097561, 0.13414634146341464, 0.08536585365853659, 0.07317073170731707, 0.14634146341463414, 0.08536585365853659, 0.06097560975609756, 0.12345679012345678, 0.08641975308641975, 0.1111111111111111]\n"
          ]
        }
      ]
    },
    {
      "cell_type": "code",
      "source": [
        "# Table showing the training and test error for each of the folds\n",
        "error_table = pd.DataFrame({'Training Error': trainErr, 'Testing Error': testErr})\n",
        "print(error_table)"
      ],
      "metadata": {
        "colab": {
          "base_uri": "https://localhost:8080/"
        },
        "id": "5DGdZIGgtzky",
        "outputId": "e4c2d2f6-3a60-456d-9f16-17ebc51010af"
      },
      "id": "5DGdZIGgtzky",
      "execution_count": null,
      "outputs": [
        {
          "output_type": "stream",
          "name": "stdout",
          "text": [
            "   Training Error  Testing Error\n",
            "0        0.096599       0.097561\n",
            "1        0.091156       0.134146\n",
            "2        0.096599       0.085366\n",
            "3        0.096599       0.073171\n",
            "4        0.089796       0.146341\n",
            "5        0.096599       0.085366\n",
            "6        0.099320       0.060976\n",
            "7        0.095109       0.123457\n",
            "8        0.097826       0.086420\n",
            "9        0.093750       0.111111\n"
          ]
        }
      ]
    },
    {
      "cell_type": "markdown",
      "source": [
        "###**Part B**"
      ],
      "metadata": {
        "id": "U3q3bzS_g4y9"
      },
      "id": "U3q3bzS_g4y9"
    },
    {
      "cell_type": "code",
      "source": [
        "# Mean training error, averaged over the 10 folds\n",
        "a = np.array(trainErr)\n",
        "np.mean(a)"
      ],
      "metadata": {
        "id": "F1XxaUbo3487",
        "colab": {
          "base_uri": "https://localhost:8080/"
        },
        "outputId": "a933b1ee-1880-41cc-af35-e45fefb77b7c"
      },
      "id": "F1XxaUbo3487",
      "execution_count": null,
      "outputs": [
        {
          "output_type": "execute_result",
          "data": {
            "text/plain": [
              "0.09533514492753623"
            ]
          },
          "metadata": {},
          "execution_count": 24
        }
      ]
    },
    {
      "cell_type": "code",
      "source": [
        "# Standard error of the mean (SEM) for the training\n",
        "np.std(a)/ math.sqrt(10)"
      ],
      "metadata": {
        "colab": {
          "base_uri": "https://localhost:8080/"
        },
        "id": "t0hejIR4tdFA",
        "outputId": "1e97210a-6b99-410f-8bee-b96319ed437f"
      },
      "id": "t0hejIR4tdFA",
      "execution_count": null,
      "outputs": [
        {
          "output_type": "execute_result",
          "data": {
            "text/plain": [
              "0.0008898075522135252"
            ]
          },
          "metadata": {},
          "execution_count": 25
        }
      ]
    },
    {
      "cell_type": "code",
      "source": [
        "# Mean testing error, averaged over the 10 folds\n",
        "b = np.array(testErr)\n",
        "np.mean(b)"
      ],
      "metadata": {
        "colab": {
          "base_uri": "https://localhost:8080/"
        },
        "id": "2PsCwuFB1DUm",
        "outputId": "a91b3426-8ba2-4eb7-d704-7c6439673635"
      },
      "id": "2PsCwuFB1DUm",
      "execution_count": null,
      "outputs": [
        {
          "output_type": "execute_result",
          "data": {
            "text/plain": [
              "0.10039144835892803"
            ]
          },
          "metadata": {},
          "execution_count": 26
        }
      ]
    },
    {
      "cell_type": "code",
      "source": [
        "# Standard error of the mean (SEM) for the testing set\n",
        "np.std(b)/ math.sqrt(10)"
      ],
      "metadata": {
        "colab": {
          "base_uri": "https://localhost:8080/"
        },
        "id": "iJqtOV6o1DiR",
        "outputId": "af8cb1d4-a5e7-4a0b-8858-7e47fa833e9e"
      },
      "id": "iJqtOV6o1DiR",
      "execution_count": null,
      "outputs": [
        {
          "output_type": "execute_result",
          "data": {
            "text/plain": [
              "0.008274690590659061"
            ]
          },
          "metadata": {},
          "execution_count": 27
        }
      ]
    },
    {
      "cell_type": "markdown",
      "source": [
        "**The mean training error is slightly lower than the mean test error, indicating that the model is overfitting slightly. However, the difference between the mean training and test errors is not very large, which suggests that the model is not overfitting too much. The SEM of the training error is smaller than the SEM of the test error, which indicates that the training error is more precise than the test error.**"
      ],
      "metadata": {
        "id": "UyuMZDg70O_j"
      },
      "id": "UyuMZDg70O_j"
    },
    {
      "cell_type": "markdown",
      "source": [
        "###**Part C**"
      ],
      "metadata": {
        "id": "5x69ZV04g46H"
      },
      "id": "5x69ZV04g46H"
    },
    {
      "cell_type": "code",
      "source": [
        "boots = 100\n",
        "\n",
        "# Initialize an empty array of length 100 to store the estimated coefficient result.\n",
        "fitParamArr = np.zeros(boots)\n",
        "\n",
        "for i in range(boots):\n",
        "    # Sample with replacement\n",
        "    thisBoot = df.sample(frac=1, replace=True)\n",
        "\n",
        "    # Fit model\n",
        "    mdl = logit(formula = \"mature ~ Malat1 + Lars2 + 1\", data = thisBoot).fit(disp = False)\n",
        "\n",
        "    # Put the estimated param back to the array, to eventually create a distribution\n",
        "    fitParamArr[i] = mdl.params.loc['Malat1']"
      ],
      "metadata": {
        "id": "SxjYQeRg4D_C"
      },
      "id": "SxjYQeRg4D_C",
      "execution_count": null,
      "outputs": []
    },
    {
      "cell_type": "code",
      "source": [
        "fitParamArr.mean()"
      ],
      "metadata": {
        "colab": {
          "base_uri": "https://localhost:8080/"
        },
        "id": "DNLxTx3UzVpA",
        "outputId": "48bb6fbc-ef29-437c-b9d8-c3241cf844c1"
      },
      "id": "DNLxTx3UzVpA",
      "execution_count": null,
      "outputs": [
        {
          "output_type": "execute_result",
          "data": {
            "text/plain": [
              "1.107922553876709"
            ]
          },
          "metadata": {},
          "execution_count": 29
        }
      ]
    },
    {
      "cell_type": "code",
      "source": [
        "fitParamArr.std()"
      ],
      "metadata": {
        "colab": {
          "base_uri": "https://localhost:8080/"
        },
        "id": "AaKqIIfr16oJ",
        "outputId": "f91f3dea-c7bc-40f2-8e69-a78847754da2"
      },
      "id": "AaKqIIfr16oJ",
      "execution_count": null,
      "outputs": [
        {
          "output_type": "execute_result",
          "data": {
            "text/plain": [
              "0.14541766377362808"
            ]
          },
          "metadata": {},
          "execution_count": 30
        }
      ]
    },
    {
      "cell_type": "markdown",
      "source": [
        "###**Part D**"
      ],
      "metadata": {
        "id": "BvQ6XlOCg5B1"
      },
      "id": "BvQ6XlOCg5B1"
    },
    {
      "cell_type": "code",
      "source": [
        "# 95% confidence interval for the coefficient Malat1.\n",
        "\n",
        "upper = fitParamArr.mean() + (1.96 * fitParamArr.std()/math.sqrt(10))\n",
        "lower = fitParamArr.mean() - (1.96 * fitParamArr.std()/math.sqrt(10))\n",
        "\n",
        "print(f\"95% confidence interval for coefficient Malat1: ({lower}, {upper})\")"
      ],
      "metadata": {
        "id": "csY93ABrrDFu",
        "colab": {
          "base_uri": "https://localhost:8080/"
        },
        "outputId": "fbc92c52-92ec-414e-f057-0d3a138b5201"
      },
      "id": "csY93ABrrDFu",
      "execution_count": null,
      "outputs": [
        {
          "output_type": "stream",
          "name": "stdout",
          "text": [
            "95% confidence interval for coefficient Malat1: (1.0177917520858457, 1.1980533556675723)\n"
          ]
        }
      ]
    }
  ],
  "metadata": {
    "kernelspec": {
      "display_name": "Python 3 (ipykernel)",
      "language": "python",
      "name": "python3"
    },
    "language_info": {
      "codemirror_mode": {
        "name": "ipython",
        "version": 3
      },
      "file_extension": ".py",
      "mimetype": "text/x-python",
      "name": "python",
      "nbconvert_exporter": "python",
      "pygments_lexer": "ipython3",
      "version": "3.9.7"
    },
    "colab": {
      "provenance": []
    }
  },
  "nbformat": 4,
  "nbformat_minor": 5
}